{
 "cells": [
  {
   "cell_type": "code",
   "execution_count": null,
   "metadata": {},
   "outputs": [],
   "source": [
    "#python -m venv venv\n",
    "#venv/Scripts/activate"
   ]
  },
  {
   "cell_type": "code",
   "execution_count": null,
   "metadata": {},
   "outputs": [],
   "source": [
    "import cv2\n",
    "import pandas \n",
    "import matplotlib.pyplot as plt\n",
    "import numpy as np\n",
    "import imutils \n",
    "from PIL import Image"
   ]
  },
  {
   "cell_type": "markdown",
   "metadata": {},
   "source": [
    "# read image "
   ]
  },
  {
   "cell_type": "code",
   "execution_count": null,
   "metadata": {},
   "outputs": [],
   "source": [
    "img = cv2.imread(\"dp pic.jpeg\", cv2.IMREAD_COLOR)\n",
    "cv2.imshow(\"image\", img)\n",
    "cv2.waitKey(0)\n",
    "cv2.destroyAllWindows()"
   ]
  },
  {
   "cell_type": "markdown",
   "metadata": {},
   "source": [
    "# saving imge"
   ]
  },
  {
   "cell_type": "code",
   "execution_count": null,
   "metadata": {},
   "outputs": [],
   "source": [
    "cv2.imwrite(\"dp pic1.jpeg\", img)"
   ]
  },
  {
   "cell_type": "markdown",
   "metadata": {},
   "source": [
    "# add two images"
   ]
  },
  {
   "cell_type": "code",
   "execution_count": null,
   "metadata": {},
   "outputs": [],
   "source": [
    "img1 = cv2.imread(\"dp pic.jpeg\", cv2.IMREAD_COLOR)\n",
    "img2 = cv2.imread(\"dp pic1.jpeg\", cv2.IMREAD_COLOR)\n",
    "img3 = cv2.add(img1, img2)\n",
    "cv2.imshow(\"image\", img3)\n",
    "cv2.waitKey(0)"
   ]
  },
  {
   "cell_type": "markdown",
   "metadata": {},
   "source": [
    "# subtruct images"
   ]
  },
  {
   "cell_type": "code",
   "execution_count": null,
   "metadata": {},
   "outputs": [],
   "source": [
    "img4 = cv2.subtract(img1, img2)\n",
    "cv2.imshow(\"image\", img4)\n",
    "cv2.waitKey(0)"
   ]
  },
  {
   "cell_type": "markdown",
   "metadata": {},
   "source": [
    "Bitwise AND operation on Image:"
   ]
  },
  {
   "cell_type": "code",
   "execution_count": null,
   "metadata": {},
   "outputs": [],
   "source": [
    "img5 = cv2.bitwise_and(img1, img2)\n",
    "cv2.imshow(\"image\", img5)\n",
    "cv2.waitKey(0)\n",
    "if cv2.waitKey(0) & 0xff == 27:  \n",
    "    cv2.destroyAllWindows()  "
   ]
  },
  {
   "cell_type": "markdown",
   "metadata": {},
   "source": [
    "Bitwise OR operation on Image:"
   ]
  },
  {
   "cell_type": "code",
   "execution_count": null,
   "metadata": {},
   "outputs": [],
   "source": [
    "img6 = cv2.bitwise_or(img1, img2)\n",
    "cv2.imshow(\"image\", img6)\n",
    "cv2.waitKey(0)\n",
    "if cv2.waitKey(0) & 0xff == 27:\n",
    "    cv2.destroyAllWindows()"
   ]
  },
  {
   "cell_type": "markdown",
   "metadata": {},
   "source": [
    "Bitwise XOR operation on Image:"
   ]
  },
  {
   "cell_type": "code",
   "execution_count": null,
   "metadata": {},
   "outputs": [],
   "source": [
    "img7 = cv2.bitwise_xor(img1, img2)\n",
    "cv2.imshow(\"image\", img7)\n",
    "cv2.waitKey(0)\n",
    "if cv2.waitKey(0) & 0xff == 27:\n",
    "    cv2.destroyAllWindows()"
   ]
  },
  {
   "cell_type": "markdown",
   "metadata": {},
   "source": [
    "Bitwise NOT operation on Image"
   ]
  },
  {
   "cell_type": "code",
   "execution_count": null,
   "metadata": {},
   "outputs": [],
   "source": [
    "img8 = cv2.bitwise_not(img1)\n",
    "cv2.imshow(\"image\", img8)\n",
    "cv2.waitKey(0)\n",
    "if cv2.waitKey(0) & 0xff == 27:\n",
    "    cv2.destroyAllWindows()"
   ]
  },
  {
   "cell_type": "markdown",
   "metadata": {},
   "source": [
    "# Image Processing --"
   ]
  },
  {
   "cell_type": "markdown",
   "metadata": {},
   "source": [
    "image resizing"
   ]
  },
  {
   "cell_type": "code",
   "execution_count": null,
   "metadata": {},
   "outputs": [],
   "source": [
    "half = cv2.resize(img1, (0, 0), fx = 0.1, fy = 0.1)\n",
    "bigger = cv2.resize(img1, (1050, 1610))\n",
    "\n",
    "stretch_near = cv2.resize(img1, (780, 540), \n",
    "               interpolation = cv2.INTER_LINEAR)\n",
    "\n",
    "Titles =[\"Original\", \"Half\", \"Bigger\", \"Interpolation Nearest\"]\n",
    "images =[img1, half, bigger, stretch_near]\n",
    "count = 4\n",
    "for i in range(count):\n",
    "    plt.subplot(2, 2, i + 1)\n",
    "    plt.title(Titles[i])\n",
    "    plt.imshow(images[i])\n",
    "\n",
    "plt.show()"
   ]
  },
  {
   "cell_type": "markdown",
   "metadata": {},
   "source": [
    "Eroding an image"
   ]
  },
  {
   "cell_type": "code",
   "execution_count": null,
   "metadata": {},
   "outputs": [],
   "source": [
    "\n",
    "image = cv2.imread(\"E:\\PAI\\pai lab\\opncv\\dp pic.jpeg\")  \n",
    "   \n",
    "window_name = 'Image'\n",
    "kernel = np.ones((6, 5), np.uint8) \n",
    "image = cv2.erode(image, kernel)  \n",
    "cv2.imshow(window_name, image)  \n",
    "cv2.waitKey(0)"
   ]
  },
  {
   "cell_type": "markdown",
   "metadata": {},
   "source": [
    "Image blurring"
   ]
  },
  {
   "cell_type": "code",
   "execution_count": null,
   "metadata": {},
   "outputs": [],
   "source": [
    "image = cv2.imread('E:\\PAI\\pai lab\\opncv\\dp pic.jpeg') \n",
    "  \n",
    "cv2.imshow('Original Image', image) \n",
    "cv2.waitKey(0) \n",
    "  \n",
    "# Gaussian Blur \n",
    "Gaussian = cv2.GaussianBlur(image, (7, 7), 0) \n",
    "cv2.imshow('Gaussian Blurring', Gaussian) \n",
    "cv2.waitKey(0) \n",
    "  \n",
    "# Median Blur \n",
    "median = cv2.medianBlur(image, 5) \n",
    "cv2.imshow('Median Blurring', median) \n",
    "cv2.waitKey(0) \n",
    "  \n",
    "  \n",
    "# Bilateral Blur \n",
    "bilateral = cv2.bilateralFilter(image, 9, 75, 75) \n",
    "cv2.imshow('Bilateral Blurring', bilateral) \n",
    "cv2.waitKey(0) \n",
    "cv2.destroyAllWindows()"
   ]
  },
  {
   "cell_type": "markdown",
   "metadata": {},
   "source": [
    "analyze an image using Histogram"
   ]
  },
  {
   "cell_type": "code",
   "execution_count": null,
   "metadata": {},
   "outputs": [],
   "source": [
    "img = cv2.imread('E:\\PAI\\pai lab\\opncv\\dp pic.jpeg')\n",
    "cv2.imshow('Original Image', img)\n",
    "cv2.waitKey(0)\n",
    "hist = cv2.calcHist([img], [0], None, [256], [0, 256])\n",
    "plt.plot(hist)\n",
    "plt.show()"
   ]
  },
  {
   "cell_type": "markdown",
   "metadata": {},
   "source": [
    "Image Thresholding"
   ]
  },
  {
   "cell_type": "code",
   "execution_count": null,
   "metadata": {},
   "outputs": [],
   "source": [
    "img = cv2.imread('E:\\PAI\\pai lab\\opncv\\dp pic.jpeg')\n",
    "cv2.imshow('Original Image', img)\n",
    "cv2.waitKey(0)\n",
    "ret, thresh1 = cv2.threshold(img, 127, 255, cv2.THRESH_BINARY)\n",
    "cv2.imshow('Threshold Binary', thresh1)\n",
    "cv2.waitKey(0)\n",
    "ret, thresh2 = cv2.threshold(img, 127, 255, cv2.THRESH_BINARY_INV)\n",
    "cv2.imshow('Threshold Binary Inverse', thresh2)\n",
    "cv2.waitKey(0)"
   ]
  },
  {
   "cell_type": "markdown",
   "metadata": {},
   "source": [
    "Converting to grayscale"
   ]
  },
  {
   "cell_type": "code",
   "execution_count": null,
   "metadata": {},
   "outputs": [],
   "source": [
    "gray = cv2.cvtColor(img, cv2.COLOR_BGR2GRAY)\n",
    "cv2.imshow('Gray Image', gray)\n",
    "cv2.waitKey(0)"
   ]
  },
  {
   "cell_type": "markdown",
   "metadata": {},
   "source": [
    "Converting to HSV"
   ]
  },
  {
   "cell_type": "code",
   "execution_count": null,
   "metadata": {},
   "outputs": [],
   "source": [
    "hsv = cv2.cvtColor(img, cv2.COLOR_BGR2HSV)\n",
    "cv2.imshow('HSV Image', hsv)\n",
    "cv2.waitKey(0)\n",
    "cv2.destroyAllWindows()"
   ]
  },
  {
   "cell_type": "markdown",
   "metadata": {},
   "source": [
    "cv2.split() method"
   ]
  },
  {
   "cell_type": "code",
   "execution_count": null,
   "metadata": {},
   "outputs": [],
   "source": [
    "img = cv2.imread('E:\\PAI\\pai lab\\opncv\\dp pic.jpeg')\n",
    "cv2.imshow('Original Image', img)\n",
    "cv2.waitKey(0)\n",
    "\n",
    "# Splitting the image\n",
    "b, g, r = cv2.split(img)\n",
    "\n",
    "# Displaying the channels\n",
    "cv2.imshow('Blue Channel', b)\n",
    "cv2.waitKey(0)\n",
    "\n",
    "cv2.imshow('Green Channel', g)\n",
    "cv2.waitKey(0)\n",
    "\n",
    "cv2.imshow('Red Channel', r)\n",
    "cv2.waitKey(0)\n",
    "cv2.destroyAllWindows()"
   ]
  },
  {
   "cell_type": "markdown",
   "metadata": {},
   "source": [
    "# Bilateral Filtering"
   ]
  },
  {
   "cell_type": "code",
   "execution_count": null,
   "metadata": {},
   "outputs": [],
   "source": [
    "img = cv2.imread('E:\\PAI\\pai lab\\opncv\\dp pic.jpeg')\n",
    "cv2.imshow('Original Image', img)\n",
    "cv2.waitKey(0)\n",
    "\n",
    "bilateral = cv2.bilateralFilter(img, 9, 75, 75)\n",
    "cv2.imshow('Bilateral Filtered Image', bilateral)\n",
    "cv2.waitKey(0)\n",
    "cv2.destroyAllWindows()"
   ]
  },
  {
   "cell_type": "markdown",
   "metadata": {},
   "source": [
    "# Feature Detection and Description"
   ]
  },
  {
   "cell_type": "markdown",
   "metadata": {},
   "source": [
    "Circle Detection"
   ]
  },
  {
   "cell_type": "code",
   "execution_count": null,
   "metadata": {},
   "outputs": [],
   "source": [
    "img = cv2.imread('photo.jpeg', cv2.IMREAD_COLOR) \n",
    "gray = cv2.cvtColor(img, cv2.COLOR_BGR2GRAY) \n",
    "gray_blurred = cv2.blur(gray, (3, 3)) \n",
    "detected_circles = cv2.HoughCircles(gray_blurred,  \n",
    "                   cv2.HOUGH_GRADIENT, 1, 20, param1 = 50, \n",
    "               param2 = 30, minRadius = 1, maxRadius = 40) \n",
    "if detected_circles is not None:\n",
    "    detected_circles = np.uint16(np.around(detected_circles))\n",
    "    for pt in detected_circles[0, :]: \n",
    "        a, b, r = pt[0], pt[1], pt[2] \n",
    "    cv2.circle(img, (a, b), r, (0, 255, 0), 2) \n",
    "    cv2.circle(img, (a, b), 1, (0, 0, 255), 3) \n",
    "    cv2.imshow(\"Detected Circle\", img) \n",
    "    cv2.waitKey(0)"
   ]
  },
  {
   "cell_type": "markdown",
   "metadata": {},
   "source": [
    "Detect corner of an image"
   ]
  },
  {
   "cell_type": "code",
   "execution_count": null,
   "metadata": {},
   "outputs": [],
   "source": [
    "img = cv2.imread('photo.jpeg') \n",
    "gray = cv2.cvtColor(img, cv2.COLOR_BGR2GRAY) \n",
    "gray = np.float32(gray)\n",
    "dst = cv2.cornerHarris(gray, 2, 3, 0.04)\n",
    "dst = cv2.dilate(dst, None)\n",
    "img[dst > 0.01 * dst.max()] = [0, 0, 255]\n",
    "cv2.imshow('Corners', img)\n",
    "cv2.waitKey(0)\n",
    "cv2.destroyAllWindows()"
   ]
  },
  {
   "cell_type": "markdown",
   "metadata": {},
   "source": [
    "Corner detection with Harris Corner Detection method"
   ]
  },
  {
   "cell_type": "code",
   "execution_count": null,
   "metadata": {},
   "outputs": [],
   "source": [
    "image = cv2.imread('photo.jpeg')\n",
    "operatedImage = cv2.cvtColor(image, cv2.COLOR_BGR2GRAY) \n",
    "operatedImage = np.float32(operatedImage) \n",
    "dest = cv2.cornerHarris(operatedImage, 2, 5, 0.07)\n",
    "dest = cv2.dilate(dest, None)\n",
    "image[dest > 0.01 * dest.max()]=[0, 0, 255]\n",
    "cv2.imshow('Image with Borders', image)\n",
    "if cv2.waitKey(0) & 0xff == 27: \n",
    "    cv2.destroyAllWindows()"
   ]
  },
  {
   "cell_type": "markdown",
   "metadata": {},
   "source": [
    "Find Circles and Ellipses in an Image"
   ]
  },
  {
   "cell_type": "code",
   "execution_count": null,
   "metadata": {},
   "outputs": [],
   "source": [
    "image = cv2.imread('E:\\PAI\\pai lab\\opncv\\photo.jpeg', 0)\n",
    "params = cv2.SimpleBlobDetector_Params()\n",
    "params.filterByArea = True\n",
    "params.minArea = 100\n",
    "params.filterByCircularity = True \n",
    "params.minCircularity = 0.9\n",
    "params.filterByConvexity = True\n",
    "params.minConvexity = 0.2\n",
    "params.filterByInertia = True\n",
    "params.minInertiaRatio = 0.01\n",
    "detector = cv2.SimpleBlobDetector_create(params)\n",
    "keypoints = detector.detect(image) \n",
    "blank = np.zeros((1, 1))  \n",
    "blobs = cv2.drawKeypoints(image, keypoints, blank, (0, 0, 255), \n",
    "            cv2.DRAW_MATCHES_FLAGS_DRAW_RICH_KEYPOINTS)\n",
    "number_of_blobs = len(keypoints) \n",
    "text = \"Number of Circular Blobs: \" + str(len(keypoints)) \n",
    "cv2.putText(blobs, text, (20, 550), \n",
    "            cv2.FONT_HERSHEY_SIMPLEX, 1, (0, 100, 255), 2)\n",
    "cv2.imshow(\"Filtering Circular Blobs Only\", blobs) \n",
    "cv2.waitKey(0) \n",
    "cv2.destroyAllWindows()"
   ]
  },
  {
   "cell_type": "markdown",
   "metadata": {},
   "source": [
    "# Smile detection using"
   ]
  },
  {
   "cell_type": "code",
   "execution_count": null,
   "metadata": {},
   "outputs": [],
   "source": [
    "face_cascade = cv2.CascadeClassifier(cv2.data.haarcascades +'haarcascade_frontalface_default.xml') \n",
    "eye_cascade = cv2.CascadeClassifier(cv2.data.haarcascades +'haarcascade_eye.xml') \n",
    "smile_cascade = cv2.CascadeClassifier(cv2.data.haarcascades +'haarcascade_smile.xml') \n",
    "\n",
    "def detect(gray, frame): \n",
    "\tfaces = face_cascade.detectMultiScale(gray, 1.3, 5) \n",
    "\tfor (x, y, w, h) in faces: \n",
    "\t\tcv2.rectangle(frame, (x, y), ((x + w), (y + h)), (255, 0, 0), 2) \n",
    "\t\troi_gray = gray[y:y + h, x:x + w] \n",
    "\t\troi_color = frame[y:y + h, x:x + w] \n",
    "\t\tsmiles = smile_cascade.detectMultiScale(roi_gray, 1.8, 20) \n",
    "\n",
    "\t\tfor (sx, sy, sw, sh) in smiles: \n",
    "\t\t\tcv2.rectangle(roi_color, (sx, sy), ((sx + sw), (sy + sh)), (0, 0, 255), 2) \n",
    "\treturn frame \n",
    "\n",
    "video_capture = cv2.VideoCapture(0) \n",
    "while video_capture.isOpened(): \n",
    "\n",
    "\t_, frame = video_capture.read() \t\t\t \n",
    "\tgray = cv2.cvtColor(frame, cv2.COLOR_BGR2GRAY)  \n",
    "\tcanvas = detect(gray, frame) \t\t\t\t \n",
    "\tcv2.imshow('Video', canvas) \n",
    "\tif cv2.waitKey(1) & 0xff == ord('q'):\t\t\t \n",
    "\t\tbreak\n",
    "\t\n",
    "video_capture.release()\n",
    "cv2.destroyAllWindows() "
   ]
  },
  {
   "cell_type": "markdown",
   "metadata": {},
   "source": [
    "# Drawing Functions"
   ]
  },
  {
   "cell_type": "markdown",
   "metadata": {},
   "source": [
    "# rectangle"
   ]
  },
  {
   "cell_type": "code",
   "execution_count": null,
   "metadata": {},
   "outputs": [],
   "source": [
    "image = cv2.imread(\"photo.jpeg\")\n",
    "window_name = 'Image'\n",
    "start_point = (0, 0)\n",
    "end_point = (250, 250)\n",
    "color = (255, 0, 0)\n",
    "thickness = 5\n",
    "image = cv2.rectangle(image, start_point, end_point, color, thickness)\n",
    "cv2.imshow(window_name, image)\n",
    "cv2.waitKey(0)\n",
    "cv2.destroyAllWindows()"
   ]
  },
  {
   "cell_type": "markdown",
   "metadata": {},
   "source": [
    "arrowedLine"
   ]
  },
  {
   "cell_type": "code",
   "execution_count": null,
   "metadata": {},
   "outputs": [],
   "source": [
    "image = cv2.imread(\"photo.jpeg\") \n",
    "window_name = \"Image\"\n",
    "start_point = (0, 0)\n",
    "end_point = (200, 200)\n",
    "color = (0, 255, 0)  \n",
    "thickness = 9\n",
    "image = cv2.arrowedLine(image, start_point, end_point,color, thickness)  \n",
    "cv2.imshow(window_name, image)\n",
    "cv2.waitKey(0)\n",
    "cv2.destroyAllWindows()"
   ]
  },
  {
   "cell_type": "markdown",
   "metadata": {},
   "source": [
    "ellipse"
   ]
  },
  {
   "cell_type": "code",
   "execution_count": null,
   "metadata": {},
   "outputs": [],
   "source": [
    "image = cv2.imread(\"photo.jpeg\") \n",
    "window_name = \"Image\"\n",
    "center_coordinates = (120, 100) \n",
    "axesLength = (100, 50) \n",
    "angle = 0\n",
    "startAngle = 0\n",
    "endAngle = 360\n",
    "color = (0, 0, 255) \n",
    "thickness = 5\n",
    "image = cv2.ellipse(image, center_coordinates, axesLength,angle, startAngle, endAngle, color, thickness)\n",
    "cv2.imshow(window_name, image)  \n",
    "cv2.waitKey(0)\n",
    "cv2.destroyAllWindows()"
   ]
  },
  {
   "cell_type": "markdown",
   "metadata": {},
   "source": [
    "circle"
   ]
  },
  {
   "cell_type": "code",
   "execution_count": null,
   "metadata": {},
   "outputs": [],
   "source": [
    "image = cv2.imread(\"photo.jpeg\") \n",
    "window_name = \"Image\"\n",
    "center_coordinates = (120, 100)\n",
    "radius = 50\n",
    "color = (0, 0, 255)\n",
    "thickness = 5\n",
    "image = cv2.circle(image, center_coordinates, radius, color, thickness)\n",
    "cv2.imshow(window_name, image)\n",
    "cv2.waitKey(0)\n",
    "cv2.destroyAllWindows()"
   ]
  },
  {
   "cell_type": "markdown",
   "metadata": {},
   "source": [
    "text string"
   ]
  },
  {
   "cell_type": "code",
   "execution_count": null,
   "metadata": {},
   "outputs": [],
   "source": [
    "image = cv2.imread(\"photo.jpeg\") \n",
    "window_name = \"Image\"\n",
    "font = cv2.FONT_HERSHEY_SIMPLEX\n",
    "org = (50, 50)\n",
    "fontScale = 1\n",
    "color = (0, 0, 255)\n",
    "thickness = 2\n",
    "image = cv2.putText(image, 'OpenCV', org, font, fontScale, color, thickness)\n",
    "cv2.imshow(window_name, image)\n",
    "cv2.waitKey(0)\n",
    "cv2.destroyAllWindows()"
   ]
  },
  {
   "cell_type": "markdown",
   "metadata": {},
   "source": [
    "# Working with Videos"
   ]
  },
  {
   "cell_type": "markdown",
   "metadata": {},
   "source": [
    "Play a video"
   ]
  },
  {
   "cell_type": "code",
   "execution_count": null,
   "metadata": {},
   "outputs": [],
   "source": [
    "cap = cv2.VideoCapture('video.mp4')\n",
    "if (cap.isOpened()== False):\n",
    "    print(\"Error opening video file\")\n",
    "while(cap.isOpened()):\n",
    "    ret, frame = cap.read()\n",
    "    if ret == True:\n",
    "        cv2.imshow('Frame',frame)\n",
    "        if cv2.waitKey(25) & 0xFF == ord('q'):\n",
    "            break\n",
    "    else:\n",
    "        break\n",
    "cap.release()\n",
    "cv2.destroyAllWindows()\n"
   ]
  },
  {
   "cell_type": "markdown",
   "metadata": {},
   "source": [
    "Create video using multiple images"
   ]
  },
  {
   "cell_type": "code",
   "execution_count": null,
   "metadata": {},
   "outputs": [],
   "source": [
    "images = [cv2.imread(\"photo.jpeg\"), cv2.imread(\"photo.jpeg\"), cv2.imread(\"photo.jpeg\")]\n",
    "fourcc = cv2.VideoWriter_fourcc(*'XVID')\n",
    "out = cv2.VideoWriter('output.avi', fourcc, 20.0, (640,  480))\n",
    "for image in images:\n",
    "    out.write(image)\n",
    "out.release()\n",
    "cv2.destroyAllWindows()"
   ]
  }
 ],
 "metadata": {
  "kernelspec": {
   "display_name": "venv",
   "language": "python",
   "name": "python3"
  },
  "language_info": {
   "codemirror_mode": {
    "name": "ipython",
    "version": 3
   },
   "file_extension": ".py",
   "mimetype": "text/x-python",
   "name": "python",
   "nbconvert_exporter": "python",
   "pygments_lexer": "ipython3",
   "version": "3.12.7"
  }
 },
 "nbformat": 4,
 "nbformat_minor": 2
}
